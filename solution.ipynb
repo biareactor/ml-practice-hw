{
 "cells": [
  {
   "cell_type": "markdown",
   "metadata": {
    "id": "Q-GrFgDe9ooz"
   },
   "source": [
    "<u>Классификация музыкальных жанров</u>"
   ]
  },
  {
   "cell_type": "markdown",
   "metadata": {
    "id": "plszPcKTWufx"
   },
   "source": [
    "![](https://drive.google.com/uc?export=view&id=1oxjiju7OXlaWISbVY_Cv08NrJjAssl1y)"
   ]
  },
  {
   "cell_type": "markdown",
   "metadata": {
    "id": "GPHp5-UlsohI"
   },
   "source": [
    "Датасет содержит различные характеристики музыкальных треков. Необходимо решить задачу классификации - предсказать жанр трека по представленным признакам.\n",
    "\n",
    "Датасет содержит 17996 строк и 17 столбцов.\n",
    "\n",
    "Целевой признак - музыкальный жанр Class:\n",
    "\n",
    "**Rock, Indie, Alt, Pop, Metal, HipHop, Alt_Music, Blues, Acoustic/Folk, Country, Instrumental**."
   ]
  },
  {
   "cell_type": "markdown",
   "metadata": {
    "id": "QfB1V2AHYhBu"
   },
   "source": [
    "Описание признаков:\n",
    "\n",
    "| Поз. |  Имя признака | Описание |\n",
    "| :-: | :-: | :- |\n",
    "| 1. | **Artist name** | имя исполнителя | \n",
    "| 2. | **Track name** | название трека |\n",
    "| 3. | **Popularity** | популярность, числовой признак, от 1 до 100 |\n",
    "| 4. | **danceability** | танцевальность трека, от 0 до 1 |\n",
    "| 5. | **energy** | энергичность трека, от 0 до 1 |\n",
    "| 6. | **key** | тональность, категориальный |\n",
    "| 7. | **loudness** | громкость, числовой признак, принимает как отрицательные, так и положительные значения |\n",
    "| 8. | **mode** | бинарный признак, сложно восстановить исходное значение |\n",
    "| 9. | **speechiness** | то, насколько понятна слушателю речь в треке, числовой признак |\n",
    "| 10. | **acousticness** | отражает использование акустических инструментов, числовой признак |\n",
    "| 11. | **instrumentalness** | отражает использование музыкальных инструментов в треке, числовой признак |\n",
    "| 12. | **liveness** | вероятность того, что трек исполнялся вживую,  числовой признак, от 0 до 1 |\n",
    "| 13. | **valence** | позитивность трека, от 0 до 1 |\n",
    "| 14. | **tempo** | темп, принимает числовое значения больше 0 |\n",
    "| 15. | **duration_in min/ms** | продолжительность трека в миллисекундах, числовой признак |\n",
    "| 16. | **time_signature** | размер такта, категориальный |\n",
    "| 17. | **Class** | целевая переменная, жанр музыки |"
   ]
  },
  {
   "cell_type": "markdown",
   "metadata": {
    "id": "GrnQqg3MqhfX"
   },
   "source": [
    "## **1. Загрузка и подготовка данных**"
   ]
  },
  {
   "cell_type": "markdown",
   "metadata": {
    "id": "lGma-gBtkPyq"
   },
   "source": [
    "Импортируем библиотеки для работы с данными:\n",
    "\n",
    "---\n",
    "\n"
   ]
  },
  {
   "cell_type": "code",
   "execution_count": 1,
   "metadata": {
    "id": "swcDUJgziI_H"
   },
   "outputs": [],
   "source": [
    "import numpy as np              # Одномерные и многомерные массивы (array)\n",
    "import pandas as pd             # Таблицы и временные ряды (dataframe, series)\n",
    "import matplotlib.pyplot as plt # Научная графика\n",
    "import seaborn as sns           # Еще больше красивой графики для визуализации данных\n",
    "import sklearn                  # Алгоритмы машинного обучения"
   ]
  },
  {
   "cell_type": "markdown",
   "metadata": {
    "id": "2zalGx2aoNaJ"
   },
   "source": [
    "Подготавливаем общие настройки для графиков:\n",
    "\n",
    "---\n"
   ]
  },
  {
   "cell_type": "code",
   "execution_count": 2,
   "metadata": {
    "id": "zHRzuQAnCzLN"
   },
   "outputs": [],
   "source": [
    "sns.set(\n",
    "    rc = {\n",
    "        \"figure.figsize\": (10, 6), #размер графика - 12 дюймов в ширину, 8 в длину\n",
    "        \"axes.titlesize\": 20, #размер заголовка \n",
    "        \"axes.labelsize\": 14, #размер подписей осей\n",
    "        \"xtick.labelsize\": 13, #размер подписей чёрточек на x-оси\n",
    "        \"ytick.labelsize\": 13, #размер подписей чёрточек на y-оси\n",
    "    }\n",
    ")\n",
    "\n",
    "sns.set_style(\"whitegrid\") #тема фона, белая со штриховкой"
   ]
  },
  {
   "cell_type": "markdown",
   "metadata": {
    "id": "x0iHVb2SkYOR"
   },
   "source": [
    "Импортируем датасет:\n",
    "\n",
    "---"
   ]
  },
  {
   "cell_type": "code",
   "execution_count": 5,
   "metadata": {
    "colab": {
     "base_uri": "https://localhost:8080/"
    },
    "id": "3-c_jbsQlcGg",
    "outputId": "9aab258d-a3f8-4631-a8f5-60011b6a20cb"
   },
   "outputs": [],
   "source": [
    "df=pd.read_csv('./train.csv',sep=',')"
   ]
  },
  {
   "cell_type": "code",
   "execution_count": 6,
   "metadata": {
    "colab": {
     "base_uri": "https://localhost:8080/",
     "height": 398
    },
    "id": "29GlUOY0lb6Q",
    "outputId": "9c6553f8-31d7-4839-ac83-80476c6bada7"
   },
   "outputs": [
    {
     "data": {
      "text/html": [
       "<div>\n",
       "<style scoped>\n",
       "    .dataframe tbody tr th:only-of-type {\n",
       "        vertical-align: middle;\n",
       "    }\n",
       "\n",
       "    .dataframe tbody tr th {\n",
       "        vertical-align: top;\n",
       "    }\n",
       "\n",
       "    .dataframe thead th {\n",
       "        text-align: right;\n",
       "    }\n",
       "</style>\n",
       "<table border=\"1\" class=\"dataframe\">\n",
       "  <thead>\n",
       "    <tr style=\"text-align: right;\">\n",
       "      <th></th>\n",
       "      <th>Artist Name</th>\n",
       "      <th>Track Name</th>\n",
       "      <th>Popularity</th>\n",
       "      <th>danceability</th>\n",
       "      <th>energy</th>\n",
       "      <th>key</th>\n",
       "      <th>loudness</th>\n",
       "      <th>mode</th>\n",
       "      <th>speechiness</th>\n",
       "      <th>acousticness</th>\n",
       "      <th>instrumentalness</th>\n",
       "      <th>liveness</th>\n",
       "      <th>valence</th>\n",
       "      <th>tempo</th>\n",
       "      <th>duration_in min/ms</th>\n",
       "      <th>time_signature</th>\n",
       "      <th>Class</th>\n",
       "    </tr>\n",
       "  </thead>\n",
       "  <tbody>\n",
       "    <tr>\n",
       "      <th>0</th>\n",
       "      <td>Bruno Mars</td>\n",
       "      <td>That's What I Like (feat. Gucci Mane)</td>\n",
       "      <td>60.0</td>\n",
       "      <td>0.854</td>\n",
       "      <td>0.564</td>\n",
       "      <td>1.0</td>\n",
       "      <td>-4.964</td>\n",
       "      <td>1</td>\n",
       "      <td>0.0485</td>\n",
       "      <td>0.0171</td>\n",
       "      <td>NaN</td>\n",
       "      <td>0.0849</td>\n",
       "      <td>0.899</td>\n",
       "      <td>134.071</td>\n",
       "      <td>234596.0</td>\n",
       "      <td>4</td>\n",
       "      <td>5</td>\n",
       "    </tr>\n",
       "    <tr>\n",
       "      <th>1</th>\n",
       "      <td>Boston</td>\n",
       "      <td>Hitch a Ride</td>\n",
       "      <td>54.0</td>\n",
       "      <td>0.382</td>\n",
       "      <td>0.814</td>\n",
       "      <td>3.0</td>\n",
       "      <td>-7.230</td>\n",
       "      <td>1</td>\n",
       "      <td>0.0406</td>\n",
       "      <td>0.0011</td>\n",
       "      <td>0.004010</td>\n",
       "      <td>0.1010</td>\n",
       "      <td>0.569</td>\n",
       "      <td>116.454</td>\n",
       "      <td>251733.0</td>\n",
       "      <td>4</td>\n",
       "      <td>10</td>\n",
       "    </tr>\n",
       "    <tr>\n",
       "      <th>2</th>\n",
       "      <td>The Raincoats</td>\n",
       "      <td>No Side to Fall In</td>\n",
       "      <td>35.0</td>\n",
       "      <td>0.434</td>\n",
       "      <td>0.614</td>\n",
       "      <td>6.0</td>\n",
       "      <td>-8.334</td>\n",
       "      <td>1</td>\n",
       "      <td>0.0525</td>\n",
       "      <td>0.4860</td>\n",
       "      <td>0.000196</td>\n",
       "      <td>0.3940</td>\n",
       "      <td>0.787</td>\n",
       "      <td>147.681</td>\n",
       "      <td>109667.0</td>\n",
       "      <td>4</td>\n",
       "      <td>6</td>\n",
       "    </tr>\n",
       "  </tbody>\n",
       "</table>\n",
       "</div>"
      ],
      "text/plain": [
       "     Artist Name                             Track Name  Popularity  \\\n",
       "0     Bruno Mars  That's What I Like (feat. Gucci Mane)        60.0   \n",
       "1         Boston                           Hitch a Ride        54.0   \n",
       "2  The Raincoats                     No Side to Fall In        35.0   \n",
       "\n",
       "   danceability  energy  key  loudness  mode  speechiness  acousticness  \\\n",
       "0         0.854   0.564  1.0    -4.964     1       0.0485        0.0171   \n",
       "1         0.382   0.814  3.0    -7.230     1       0.0406        0.0011   \n",
       "2         0.434   0.614  6.0    -8.334     1       0.0525        0.4860   \n",
       "\n",
       "   instrumentalness  liveness  valence    tempo  duration_in min/ms  \\\n",
       "0               NaN    0.0849    0.899  134.071            234596.0   \n",
       "1          0.004010    0.1010    0.569  116.454            251733.0   \n",
       "2          0.000196    0.3940    0.787  147.681            109667.0   \n",
       "\n",
       "   time_signature  Class  \n",
       "0               4      5  \n",
       "1               4     10  \n",
       "2               4      6  "
      ]
     },
     "execution_count": 6,
     "metadata": {},
     "output_type": "execute_result"
    }
   ],
   "source": [
    "df.head(3)"
   ]
  },
  {
   "cell_type": "code",
   "execution_count": 7,
   "metadata": {
    "colab": {
     "base_uri": "https://localhost:8080/"
    },
    "id": "ndrBIzn3rik4",
    "outputId": "cbe9a92a-b955-4db6-bb06-66fb3fcf6e0c"
   },
   "outputs": [
    {
     "data": {
      "text/plain": [
       "(17996, 17)"
      ]
     },
     "execution_count": 7,
     "metadata": {},
     "output_type": "execute_result"
    }
   ],
   "source": [
    "df.shape"
   ]
  },
  {
   "cell_type": "code",
   "execution_count": 8,
   "metadata": {
    "colab": {
     "base_uri": "https://localhost:8080/"
    },
    "id": "Pqh7zDsFoo5n",
    "outputId": "9c838e7a-cc59-498b-bf50-eabc8d69892b"
   },
   "outputs": [
    {
     "name": "stdout",
     "output_type": "stream",
     "text": [
      "<class 'pandas.core.frame.DataFrame'>\n",
      "RangeIndex: 17996 entries, 0 to 17995\n",
      "Data columns (total 17 columns):\n",
      " #   Column              Non-Null Count  Dtype  \n",
      "---  ------              --------------  -----  \n",
      " 0   Artist Name         17996 non-null  object \n",
      " 1   Track Name          17996 non-null  object \n",
      " 2   Popularity          17568 non-null  float64\n",
      " 3   danceability        17996 non-null  float64\n",
      " 4   energy              17996 non-null  float64\n",
      " 5   key                 15982 non-null  float64\n",
      " 6   loudness            17996 non-null  float64\n",
      " 7   mode                17996 non-null  int64  \n",
      " 8   speechiness         17996 non-null  float64\n",
      " 9   acousticness        17996 non-null  float64\n",
      " 10  instrumentalness    13619 non-null  float64\n",
      " 11  liveness            17996 non-null  float64\n",
      " 12  valence             17996 non-null  float64\n",
      " 13  tempo               17996 non-null  float64\n",
      " 14  duration_in min/ms  17996 non-null  float64\n",
      " 15  time_signature      17996 non-null  int64  \n",
      " 16  Class               17996 non-null  int64  \n",
      "dtypes: float64(12), int64(3), object(2)\n",
      "memory usage: 2.3+ MB\n"
     ]
    }
   ],
   "source": [
    "df.info()"
   ]
  },
  {
   "cell_type": "code",
   "execution_count": 9,
   "metadata": {
    "colab": {
     "base_uri": "https://localhost:8080/",
     "height": 381
    },
    "id": "n0eqgmx9oyb-",
    "outputId": "935b52d6-6fb3-4f35-ff43-1e1df28b5841"
   },
   "outputs": [
    {
     "data": {
      "text/html": [
       "<div>\n",
       "<style scoped>\n",
       "    .dataframe tbody tr th:only-of-type {\n",
       "        vertical-align: middle;\n",
       "    }\n",
       "\n",
       "    .dataframe tbody tr th {\n",
       "        vertical-align: top;\n",
       "    }\n",
       "\n",
       "    .dataframe thead th {\n",
       "        text-align: right;\n",
       "    }\n",
       "</style>\n",
       "<table border=\"1\" class=\"dataframe\">\n",
       "  <thead>\n",
       "    <tr style=\"text-align: right;\">\n",
       "      <th></th>\n",
       "      <th>Popularity</th>\n",
       "      <th>danceability</th>\n",
       "      <th>energy</th>\n",
       "      <th>key</th>\n",
       "      <th>loudness</th>\n",
       "      <th>mode</th>\n",
       "      <th>speechiness</th>\n",
       "      <th>acousticness</th>\n",
       "      <th>instrumentalness</th>\n",
       "      <th>liveness</th>\n",
       "      <th>valence</th>\n",
       "      <th>tempo</th>\n",
       "      <th>duration_in min/ms</th>\n",
       "      <th>time_signature</th>\n",
       "      <th>Class</th>\n",
       "    </tr>\n",
       "  </thead>\n",
       "  <tbody>\n",
       "    <tr>\n",
       "      <th>count</th>\n",
       "      <td>17568.000000</td>\n",
       "      <td>17996.000000</td>\n",
       "      <td>17996.000000</td>\n",
       "      <td>15982.000000</td>\n",
       "      <td>17996.000000</td>\n",
       "      <td>17996.000000</td>\n",
       "      <td>17996.000000</td>\n",
       "      <td>17996.000000</td>\n",
       "      <td>13619.000000</td>\n",
       "      <td>17996.000000</td>\n",
       "      <td>17996.000000</td>\n",
       "      <td>17996.000000</td>\n",
       "      <td>1.799600e+04</td>\n",
       "      <td>17996.000000</td>\n",
       "      <td>17996.000000</td>\n",
       "    </tr>\n",
       "    <tr>\n",
       "      <th>mean</th>\n",
       "      <td>44.512124</td>\n",
       "      <td>0.543433</td>\n",
       "      <td>0.662777</td>\n",
       "      <td>5.952447</td>\n",
       "      <td>-7.910660</td>\n",
       "      <td>0.636753</td>\n",
       "      <td>0.079707</td>\n",
       "      <td>0.247082</td>\n",
       "      <td>0.177562</td>\n",
       "      <td>0.196170</td>\n",
       "      <td>0.486208</td>\n",
       "      <td>122.623294</td>\n",
       "      <td>2.007445e+05</td>\n",
       "      <td>3.924039</td>\n",
       "      <td>6.695821</td>\n",
       "    </tr>\n",
       "    <tr>\n",
       "      <th>std</th>\n",
       "      <td>17.426928</td>\n",
       "      <td>0.166268</td>\n",
       "      <td>0.235373</td>\n",
       "      <td>3.196854</td>\n",
       "      <td>4.049151</td>\n",
       "      <td>0.480949</td>\n",
       "      <td>0.083576</td>\n",
       "      <td>0.310632</td>\n",
       "      <td>0.304048</td>\n",
       "      <td>0.159212</td>\n",
       "      <td>0.240195</td>\n",
       "      <td>29.571527</td>\n",
       "      <td>1.119891e+05</td>\n",
       "      <td>0.361618</td>\n",
       "      <td>3.206073</td>\n",
       "    </tr>\n",
       "    <tr>\n",
       "      <th>min</th>\n",
       "      <td>1.000000</td>\n",
       "      <td>0.059600</td>\n",
       "      <td>0.000020</td>\n",
       "      <td>1.000000</td>\n",
       "      <td>-39.952000</td>\n",
       "      <td>0.000000</td>\n",
       "      <td>0.022500</td>\n",
       "      <td>0.000000</td>\n",
       "      <td>0.000001</td>\n",
       "      <td>0.011900</td>\n",
       "      <td>0.018300</td>\n",
       "      <td>30.557000</td>\n",
       "      <td>5.016500e-01</td>\n",
       "      <td>1.000000</td>\n",
       "      <td>0.000000</td>\n",
       "    </tr>\n",
       "    <tr>\n",
       "      <th>25%</th>\n",
       "      <td>33.000000</td>\n",
       "      <td>0.432000</td>\n",
       "      <td>0.509000</td>\n",
       "      <td>3.000000</td>\n",
       "      <td>-9.538000</td>\n",
       "      <td>0.000000</td>\n",
       "      <td>0.034800</td>\n",
       "      <td>0.004300</td>\n",
       "      <td>0.000089</td>\n",
       "      <td>0.097500</td>\n",
       "      <td>0.297000</td>\n",
       "      <td>99.620750</td>\n",
       "      <td>1.663370e+05</td>\n",
       "      <td>4.000000</td>\n",
       "      <td>5.000000</td>\n",
       "    </tr>\n",
       "    <tr>\n",
       "      <th>50%</th>\n",
       "      <td>44.000000</td>\n",
       "      <td>0.545000</td>\n",
       "      <td>0.700000</td>\n",
       "      <td>6.000000</td>\n",
       "      <td>-7.016000</td>\n",
       "      <td>1.000000</td>\n",
       "      <td>0.047400</td>\n",
       "      <td>0.081400</td>\n",
       "      <td>0.003910</td>\n",
       "      <td>0.129000</td>\n",
       "      <td>0.481000</td>\n",
       "      <td>120.065500</td>\n",
       "      <td>2.091600e+05</td>\n",
       "      <td>4.000000</td>\n",
       "      <td>8.000000</td>\n",
       "    </tr>\n",
       "    <tr>\n",
       "      <th>75%</th>\n",
       "      <td>56.000000</td>\n",
       "      <td>0.659000</td>\n",
       "      <td>0.860000</td>\n",
       "      <td>9.000000</td>\n",
       "      <td>-5.189000</td>\n",
       "      <td>1.000000</td>\n",
       "      <td>0.083000</td>\n",
       "      <td>0.434000</td>\n",
       "      <td>0.200000</td>\n",
       "      <td>0.258000</td>\n",
       "      <td>0.672000</td>\n",
       "      <td>141.969250</td>\n",
       "      <td>2.524900e+05</td>\n",
       "      <td>4.000000</td>\n",
       "      <td>10.000000</td>\n",
       "    </tr>\n",
       "    <tr>\n",
       "      <th>max</th>\n",
       "      <td>100.000000</td>\n",
       "      <td>0.989000</td>\n",
       "      <td>1.000000</td>\n",
       "      <td>11.000000</td>\n",
       "      <td>1.355000</td>\n",
       "      <td>1.000000</td>\n",
       "      <td>0.955000</td>\n",
       "      <td>0.996000</td>\n",
       "      <td>0.996000</td>\n",
       "      <td>1.000000</td>\n",
       "      <td>0.986000</td>\n",
       "      <td>217.416000</td>\n",
       "      <td>1.477187e+06</td>\n",
       "      <td>5.000000</td>\n",
       "      <td>10.000000</td>\n",
       "    </tr>\n",
       "  </tbody>\n",
       "</table>\n",
       "</div>"
      ],
      "text/plain": [
       "         Popularity  danceability        energy           key      loudness  \\\n",
       "count  17568.000000  17996.000000  17996.000000  15982.000000  17996.000000   \n",
       "mean      44.512124      0.543433      0.662777      5.952447     -7.910660   \n",
       "std       17.426928      0.166268      0.235373      3.196854      4.049151   \n",
       "min        1.000000      0.059600      0.000020      1.000000    -39.952000   \n",
       "25%       33.000000      0.432000      0.509000      3.000000     -9.538000   \n",
       "50%       44.000000      0.545000      0.700000      6.000000     -7.016000   \n",
       "75%       56.000000      0.659000      0.860000      9.000000     -5.189000   \n",
       "max      100.000000      0.989000      1.000000     11.000000      1.355000   \n",
       "\n",
       "               mode   speechiness  acousticness  instrumentalness  \\\n",
       "count  17996.000000  17996.000000  17996.000000      13619.000000   \n",
       "mean       0.636753      0.079707      0.247082          0.177562   \n",
       "std        0.480949      0.083576      0.310632          0.304048   \n",
       "min        0.000000      0.022500      0.000000          0.000001   \n",
       "25%        0.000000      0.034800      0.004300          0.000089   \n",
       "50%        1.000000      0.047400      0.081400          0.003910   \n",
       "75%        1.000000      0.083000      0.434000          0.200000   \n",
       "max        1.000000      0.955000      0.996000          0.996000   \n",
       "\n",
       "           liveness       valence         tempo  duration_in min/ms  \\\n",
       "count  17996.000000  17996.000000  17996.000000        1.799600e+04   \n",
       "mean       0.196170      0.486208    122.623294        2.007445e+05   \n",
       "std        0.159212      0.240195     29.571527        1.119891e+05   \n",
       "min        0.011900      0.018300     30.557000        5.016500e-01   \n",
       "25%        0.097500      0.297000     99.620750        1.663370e+05   \n",
       "50%        0.129000      0.481000    120.065500        2.091600e+05   \n",
       "75%        0.258000      0.672000    141.969250        2.524900e+05   \n",
       "max        1.000000      0.986000    217.416000        1.477187e+06   \n",
       "\n",
       "       time_signature         Class  \n",
       "count    17996.000000  17996.000000  \n",
       "mean         3.924039      6.695821  \n",
       "std          0.361618      3.206073  \n",
       "min          1.000000      0.000000  \n",
       "25%          4.000000      5.000000  \n",
       "50%          4.000000      8.000000  \n",
       "75%          4.000000     10.000000  \n",
       "max          5.000000     10.000000  "
      ]
     },
     "execution_count": 9,
     "metadata": {},
     "output_type": "execute_result"
    }
   ],
   "source": [
    "df.describe()"
   ]
  },
  {
   "cell_type": "markdown",
   "metadata": {
    "id": "zCAFbzkTkIK9"
   },
   "source": [
    "Заменим объектный тип на специальный категориальный:\n",
    "\n",
    "---"
   ]
  },
  {
   "cell_type": "code",
   "execution_count": 10,
   "metadata": {
    "id": "2aakzqG5r_SX"
   },
   "outputs": [],
   "source": [
    "df['Artist Name'] = df['Artist Name'].astype('category')\n",
    "df['Track Name'] = df['Track Name'].astype('category')"
   ]
  },
  {
   "cell_type": "code",
   "execution_count": 11,
   "metadata": {
    "colab": {
     "base_uri": "https://localhost:8080/",
     "height": 175
    },
    "id": "8nXKx35yq9tR",
    "outputId": "e7c68d50-aad8-4ee4-91ee-c3a5f4a68b98"
   },
   "outputs": [
    {
     "data": {
      "text/html": [
       "<div>\n",
       "<style scoped>\n",
       "    .dataframe tbody tr th:only-of-type {\n",
       "        vertical-align: middle;\n",
       "    }\n",
       "\n",
       "    .dataframe tbody tr th {\n",
       "        vertical-align: top;\n",
       "    }\n",
       "\n",
       "    .dataframe thead th {\n",
       "        text-align: right;\n",
       "    }\n",
       "</style>\n",
       "<table border=\"1\" class=\"dataframe\">\n",
       "  <thead>\n",
       "    <tr style=\"text-align: right;\">\n",
       "      <th></th>\n",
       "      <th>Artist Name</th>\n",
       "      <th>Track Name</th>\n",
       "    </tr>\n",
       "  </thead>\n",
       "  <tbody>\n",
       "    <tr>\n",
       "      <th>count</th>\n",
       "      <td>17996</td>\n",
       "      <td>17996</td>\n",
       "    </tr>\n",
       "    <tr>\n",
       "      <th>unique</th>\n",
       "      <td>9149</td>\n",
       "      <td>15129</td>\n",
       "    </tr>\n",
       "    <tr>\n",
       "      <th>top</th>\n",
       "      <td>Backstreet Boys</td>\n",
       "      <td>Dreams</td>\n",
       "    </tr>\n",
       "    <tr>\n",
       "      <th>freq</th>\n",
       "      <td>69</td>\n",
       "      <td>9</td>\n",
       "    </tr>\n",
       "  </tbody>\n",
       "</table>\n",
       "</div>"
      ],
      "text/plain": [
       "            Artist Name Track Name\n",
       "count             17996      17996\n",
       "unique             9149      15129\n",
       "top     Backstreet Boys     Dreams\n",
       "freq                 69          9"
      ]
     },
     "execution_count": 11,
     "metadata": {},
     "output_type": "execute_result"
    }
   ],
   "source": [
    "df.describe(include=['category'])"
   ]
  },
  {
   "cell_type": "markdown",
   "metadata": {
    "id": "PBw6wek9tzAW"
   },
   "source": [
    "Удалим столбецы Artist Name и Track Name из-за большого количества уникальных значений и предположительно малого влияния на результат предсказания класса"
   ]
  },
  {
   "cell_type": "code",
   "execution_count": 12,
   "metadata": {
    "id": "VgL4hFivuRDv"
   },
   "outputs": [],
   "source": [
    "df=df.drop(columns='Artist Name')\n",
    "df=df.drop(columns='Track Name')"
   ]
  },
  {
   "cell_type": "markdown",
   "metadata": {
    "id": "B46OVnNyxv7F"
   },
   "source": [
    "Посмотрим имена признаков:\n",
    "\n",
    "---"
   ]
  },
  {
   "cell_type": "code",
   "execution_count": 13,
   "metadata": {
    "colab": {
     "base_uri": "https://localhost:8080/"
    },
    "id": "i_POgRK5xm2m",
    "outputId": "57a65e74-1b7c-4248-8274-4f862e358a30"
   },
   "outputs": [
    {
     "data": {
      "text/plain": [
       "Index(['Popularity', 'danceability', 'energy', 'key', 'loudness', 'mode',\n",
       "       'speechiness', 'acousticness', 'instrumentalness', 'liveness',\n",
       "       'valence', 'tempo', 'duration_in min/ms', 'time_signature', 'Class'],\n",
       "      dtype='object')"
      ]
     },
     "execution_count": 13,
     "metadata": {},
     "output_type": "execute_result"
    }
   ],
   "source": [
    "df.columns"
   ]
  },
  {
   "cell_type": "markdown",
   "metadata": {
    "id": "HiAGNBbNkhgc"
   },
   "source": [
    "Посмотрим количество пустых значений по столбцам:\n",
    "\n",
    "---"
   ]
  },
  {
   "cell_type": "code",
   "execution_count": 14,
   "metadata": {
    "colab": {
     "base_uri": "https://localhost:8080/"
    },
    "id": "NZ9F8QH4kQUs",
    "outputId": "7ea681f6-dcdc-49e2-dee6-5f205f363773"
   },
   "outputs": [
    {
     "data": {
      "text/plain": [
       "Popularity             428\n",
       "danceability             0\n",
       "energy                   0\n",
       "key                   2014\n",
       "loudness                 0\n",
       "mode                     0\n",
       "speechiness              0\n",
       "acousticness             0\n",
       "instrumentalness      4377\n",
       "liveness                 0\n",
       "valence                  0\n",
       "tempo                    0\n",
       "duration_in min/ms       0\n",
       "time_signature           0\n",
       "Class                    0\n",
       "dtype: int64"
      ]
     },
     "execution_count": 14,
     "metadata": {},
     "output_type": "execute_result"
    }
   ],
   "source": [
    "df.isnull().sum()"
   ]
  },
  {
   "cell_type": "markdown",
   "metadata": {
    "id": "TelzH3u0i2a9"
   },
   "source": [
    "Создадим списки из категориальных и числовых признаков:\n",
    "\n",
    "---"
   ]
  },
  {
   "cell_type": "code",
   "execution_count": 15,
   "metadata": {
    "id": "K1pIwY7djSF8"
   },
   "outputs": [],
   "source": [
    "num_cols=[\n",
    "    'Popularity',\n",
    "    'danceability',\n",
    "    'energy',\n",
    "    'loudness',\n",
    "    'speechiness',\n",
    "    'acousticness',\n",
    "    'instrumentalness',\n",
    "    'liveness',\n",
    "    'valence',\n",
    "    'tempo',\n",
    "    'duration_in min/ms'\n",
    "\n",
    "]\n",
    "cat_cols=[\n",
    "    'mode',\n",
    "    'key',\n",
    "    'time_signature'\n",
    "]"
   ]
  },
  {
   "cell_type": "code",
   "execution_count": 16,
   "metadata": {
    "id": "ubOQj0Pkt3OI"
   },
   "outputs": [],
   "source": [
    "feature_cols = num_cols + cat_cols"
   ]
  },
  {
   "cell_type": "markdown",
   "metadata": {
    "id": "KoCRGYM0gl1d"
   },
   "source": [
    "Заменим пропуски медианой\n",
    "\n",
    "---"
   ]
  },
  {
   "cell_type": "code",
   "execution_count": 17,
   "metadata": {
    "id": "qWp5ftyghPQ1"
   },
   "outputs": [],
   "source": [
    "df[\"key\"] = df['key'].fillna(df['key'].median(axis = 0), axis = 0)"
   ]
  },
  {
   "cell_type": "code",
   "execution_count": 18,
   "metadata": {
    "id": "JfUdSqCnh8ul"
   },
   "outputs": [],
   "source": [
    "df[\"Popularity\"] = df['Popularity'].fillna(df['Popularity'].median(axis = 0), axis = 0)"
   ]
  },
  {
   "cell_type": "code",
   "execution_count": 19,
   "metadata": {
    "id": "0tEKwB-5h_mN"
   },
   "outputs": [],
   "source": [
    "df[\"instrumentalness\"] = df['instrumentalness'].fillna(df['instrumentalness'].median(axis = 0), axis = 0)"
   ]
  },
  {
   "cell_type": "code",
   "execution_count": 20,
   "metadata": {
    "colab": {
     "base_uri": "https://localhost:8080/"
    },
    "id": "QOz-FEgRiVcd",
    "outputId": "feb732b9-7b16-4df1-a200-72b2d9448589"
   },
   "outputs": [
    {
     "data": {
      "text/plain": [
       "Popularity            0\n",
       "danceability          0\n",
       "energy                0\n",
       "key                   0\n",
       "loudness              0\n",
       "mode                  0\n",
       "speechiness           0\n",
       "acousticness          0\n",
       "instrumentalness      0\n",
       "liveness              0\n",
       "valence               0\n",
       "tempo                 0\n",
       "duration_in min/ms    0\n",
       "time_signature        0\n",
       "Class                 0\n",
       "dtype: int64"
      ]
     },
     "execution_count": 20,
     "metadata": {},
     "output_type": "execute_result"
    }
   ],
   "source": [
    "df.isnull().sum()"
   ]
  },
  {
   "cell_type": "markdown",
   "metadata": {
    "id": "PUiB5khficO0"
   },
   "source": [
    "Заменим тип данных категориальных признаков на category:\n",
    "\n",
    "---"
   ]
  },
  {
   "cell_type": "code",
   "execution_count": 21,
   "metadata": {
    "id": "s5zhFxf7iXds"
   },
   "outputs": [],
   "source": [
    "df['key']=df['key'].astype('int64')\n",
    "df[cat_cols]=df[cat_cols].astype('category')"
   ]
  },
  {
   "cell_type": "code",
   "execution_count": 22,
   "metadata": {
    "colab": {
     "base_uri": "https://localhost:8080/"
    },
    "id": "0G-9sO806pCa",
    "outputId": "6b4a4084-2bd0-47d4-9353-07cf7ff00e4d"
   },
   "outputs": [
    {
     "name": "stdout",
     "output_type": "stream",
     "text": [
      "<class 'pandas.core.frame.DataFrame'>\n",
      "RangeIndex: 17996 entries, 0 to 17995\n",
      "Data columns (total 15 columns):\n",
      " #   Column              Non-Null Count  Dtype   \n",
      "---  ------              --------------  -----   \n",
      " 0   Popularity          17996 non-null  float64 \n",
      " 1   danceability        17996 non-null  float64 \n",
      " 2   energy              17996 non-null  float64 \n",
      " 3   key                 17996 non-null  category\n",
      " 4   loudness            17996 non-null  float64 \n",
      " 5   mode                17996 non-null  category\n",
      " 6   speechiness         17996 non-null  float64 \n",
      " 7   acousticness        17996 non-null  float64 \n",
      " 8   instrumentalness    17996 non-null  float64 \n",
      " 9   liveness            17996 non-null  float64 \n",
      " 10  valence             17996 non-null  float64 \n",
      " 11  tempo               17996 non-null  float64 \n",
      " 12  duration_in min/ms  17996 non-null  float64 \n",
      " 13  time_signature      17996 non-null  category\n",
      " 14  Class               17996 non-null  int64   \n",
      "dtypes: category(3), float64(11), int64(1)\n",
      "memory usage: 1.7 MB\n"
     ]
    }
   ],
   "source": [
    "df.info()"
   ]
  },
  {
   "cell_type": "code",
   "execution_count": 23,
   "metadata": {
    "colab": {
     "base_uri": "https://localhost:8080/",
     "height": 175
    },
    "id": "bOIYAKXH7TEJ",
    "outputId": "819243a9-b30d-4b65-ca69-e381c2769ef8"
   },
   "outputs": [
    {
     "data": {
      "text/html": [
       "<div>\n",
       "<style scoped>\n",
       "    .dataframe tbody tr th:only-of-type {\n",
       "        vertical-align: middle;\n",
       "    }\n",
       "\n",
       "    .dataframe tbody tr th {\n",
       "        vertical-align: top;\n",
       "    }\n",
       "\n",
       "    .dataframe thead th {\n",
       "        text-align: right;\n",
       "    }\n",
       "</style>\n",
       "<table border=\"1\" class=\"dataframe\">\n",
       "  <thead>\n",
       "    <tr style=\"text-align: right;\">\n",
       "      <th></th>\n",
       "      <th>key</th>\n",
       "      <th>mode</th>\n",
       "      <th>time_signature</th>\n",
       "    </tr>\n",
       "  </thead>\n",
       "  <tbody>\n",
       "    <tr>\n",
       "      <th>count</th>\n",
       "      <td>17996</td>\n",
       "      <td>17996</td>\n",
       "      <td>17996</td>\n",
       "    </tr>\n",
       "    <tr>\n",
       "      <th>unique</th>\n",
       "      <td>11</td>\n",
       "      <td>2</td>\n",
       "      <td>4</td>\n",
       "    </tr>\n",
       "    <tr>\n",
       "      <th>top</th>\n",
       "      <td>6</td>\n",
       "      <td>1</td>\n",
       "      <td>4</td>\n",
       "    </tr>\n",
       "    <tr>\n",
       "      <th>freq</th>\n",
       "      <td>3204</td>\n",
       "      <td>11459</td>\n",
       "      <td>16451</td>\n",
       "    </tr>\n",
       "  </tbody>\n",
       "</table>\n",
       "</div>"
      ],
      "text/plain": [
       "          key   mode  time_signature\n",
       "count   17996  17996           17996\n",
       "unique     11      2               4\n",
       "top         6      1               4\n",
       "freq     3204  11459           16451"
      ]
     },
     "execution_count": 23,
     "metadata": {},
     "output_type": "execute_result"
    }
   ],
   "source": [
    "df.describe(include=['category'])"
   ]
  },
  {
   "cell_type": "markdown",
   "metadata": {
    "id": "VN3OOji7qCAc"
   },
   "source": [
    "## **2. Визуализация данных**"
   ]
  },
  {
   "cell_type": "markdown",
   "metadata": {
    "id": "J1TNJhxCH5Fi"
   },
   "source": [
    "Распределение по классам:\n",
    "\n",
    "---"
   ]
  },
  {
   "cell_type": "code",
   "execution_count": 24,
   "metadata": {
    "colab": {
     "base_uri": "https://localhost:8080/"
    },
    "id": "JhHnTTciH9Oa",
    "outputId": "2738d458-a9ad-40bc-fe93-6bba6bf8924b"
   },
   "outputs": [
    {
     "name": "stdout",
     "output_type": "stream",
     "text": [
      "0 3.4729939986663703\n",
      "1 7.6294732162702825\n",
      "2 7.068237386085798\n",
      "3 2.2338297399422093\n",
      "4 2.1504778839742165\n",
      "5 8.04067570571238\n",
      "6 14.37541675927984\n",
      "7 3.200711269170927\n",
      "8 10.302289397643921\n",
      "9 14.02533896421427\n",
      "10 27.500555679039785\n"
     ]
    }
   ],
   "source": [
    "i_mass =[]\n",
    "per_mass = []\n",
    "for i in range (11):\n",
    "    count_no_class = len(df[df['Class']!=i])\n",
    "    count_class = len(df[df['Class']==i])\n",
    "    pct = count_class/(count_no_class + count_class)\n",
    "    print(i, pct*100)\n",
    "    i_mass.append (i)\n",
    "    per_mass.append (pct*100)"
   ]
  },
  {
   "cell_type": "markdown",
   "metadata": {
    "id": "qOb2LaTBMioI"
   },
   "source": [
    "Распределение по классам с названиями жанров:\n",
    "\n",
    "---\n"
   ]
  },
  {
   "cell_type": "code",
   "execution_count": 25,
   "metadata": {
    "colab": {
     "base_uri": "https://localhost:8080/"
    },
    "id": "JNC9QIf7KXBS",
    "outputId": "699c3c00-9cd5-480c-f0ee-1bce51b32f42"
   },
   "outputs": [
    {
     "data": {
      "text/plain": [
       "Country          4949\n",
       "Alt_Music        2587\n",
       "Instrumental     2524\n",
       "Acoustic/Folk    1854\n",
       "HipHop           1447\n",
       "Indie            1373\n",
       "Alt              1272\n",
       "Rock              625\n",
       "Blues             576\n",
       "Pop               402\n",
       "Metal             387\n",
       "Name: Class, dtype: int64"
      ]
     },
     "execution_count": 25,
     "metadata": {},
     "output_type": "execute_result"
    }
   ],
   "source": [
    "class_name = [\"Rock\", \"Indie\", \"Alt\", \"Pop\", \"Metal\", \"HipHop\", \"Alt_Music\", \"Blues\", \"Acoustic/Folk\", \"Instrumental\", \"Country\", \"Bollywood\"]\n",
    "class_number = []\n",
    "class_number = df['Class']\n",
    "class_mapping = { i : class_name[i] for i in range(0,11)} #Class mapping\n",
    "class_number = class_number.map(class_mapping)\n",
    "class_number.value_counts()"
   ]
  },
  {
   "cell_type": "markdown",
   "metadata": {
    "id": "JwWMmIWVRzOO"
   },
   "source": [
    "Визуализация распределения по классам:\n",
    "\n",
    "---"
   ]
  },
  {
   "cell_type": "code",
   "execution_count": 26,
   "metadata": {
    "colab": {
     "base_uri": "https://localhost:8080/",
     "height": 455
    },
    "id": "D9BWx8QZIJWy",
    "outputId": "1dd30d67-7068-460e-faff-f8da388f121f"
   },
   "outputs": [
    {
     "data": {
      "text/plain": [
       "<AxesSubplot:>"
      ]
     },
     "execution_count": 26,
     "metadata": {},
     "output_type": "execute_result"
    },
    {
     "data": {
      "image/png": "[encoded data removed]",
      "text/plain": [
       "<Figure size 1000x600 with 1 Axes>"
      ]
     },
     "metadata": {},
     "output_type": "display_data"
    }
   ],
   "source": [
    "sns.barplot(i_mass, per_mass)"
   ]
  },
  {
   "cell_type": "code",
   "execution_count": 27,
   "metadata": {
    "colab": {
     "base_uri": "https://localhost:8080/",
     "height": 960
    },
    "id": "2mFkpkbm-VDQ",
    "outputId": "ee5a897b-d643-4621-b541-ae2eae3f459b"
   },
   "outputs": [
    {
     "data": {
      "text/plain": [
       "([<matplotlib.patches.Wedge at 0x281487acc40>,\n",
       "  <matplotlib.patches.Wedge at 0x281487bb400>,\n",
       "  <matplotlib.patches.Wedge at 0x281487bbb20>,\n",
       "  <matplotlib.patches.Wedge at 0x28148aec280>,\n",
       "  <matplotlib.patches.Wedge at 0x28148aec9a0>,\n",
       "  <matplotlib.patches.Wedge at 0x28148af8130>,\n",
       "  <matplotlib.patches.Wedge at 0x28148af8850>,\n",
       "  <matplotlib.patches.Wedge at 0x28148af8f70>,\n",
       "  <matplotlib.patches.Wedge at 0x28148b076d0>,\n",
       "  <matplotlib.patches.Wedge at 0x28148b07df0>,\n",
       "  <matplotlib.patches.Wedge at 0x281487acc10>],\n",
       " [Text(0.714378271028979, 0.8364590162594021, '10'),\n",
       "  Text(-0.6290100411264601, 0.902411418457285, '6'),\n",
       "  Text(-1.0973192628988189, 0.07674917114336272, '9'),\n",
       "  Text(-0.8452489824464342, -0.7039560765227245, '8'),\n",
       "  Text(-0.3251655259895507, -1.0508412728418783, '5'),\n",
       "  Text(0.21012447371775286, -1.0797442778476938, '1'),\n",
       "  Text(0.6691550578141721, -0.8730587085653015, '2'),\n",
       "  Text(0.9166651188154034, -0.6080502116989539, '0'),\n",
       "  Text(1.0231438818649357, -0.4039512309702136, '7'),\n",
       "  Text(1.0769006837341026, -0.2242429873441358, '3'),\n",
       "  Text(1.0974906173793233, -0.07425863427475475, '4')],\n",
       " [Text(0.3896608751067158, 0.45625037250512834, '27.5%'),\n",
       "  Text(-0.3430963860689782, 0.49222441006761, '14.4%'),\n",
       "  Text(-0.598537779762992, 0.04186318426001603, '14.0%'),\n",
       "  Text(-0.46104489951623673, -0.3839760417396679, '10.3%'),\n",
       "  Text(-0.17736301417611855, -0.5731861488228427, '8.0%'),\n",
       "  Text(0.11461334930059244, -0.5889514242805601, '7.6%'),\n",
       "  Text(0.36499366789863924, -0.476213841035619, '7.1%'),\n",
       "  Text(0.4999991557174927, -0.331663751835793, '3.5%'),\n",
       "  Text(0.5580784810172376, -0.22033703507466196, '3.2%'),\n",
       "  Text(0.5874003729458741, -0.12231435673316496, '2.2%'),\n",
       "  Text(0.5986312458432672, -0.04050470960441167, '2.2%')])"
      ]
     },
     "execution_count": 27,
     "metadata": {},
     "output_type": "execute_result"
    },
    {
     "data": {
      "image/png": "[encoded data removed]",
      "text/plain": [
       "<Figure size 1000x600 with 1 Axes>"
      ]
     },
     "metadata": {},
     "output_type": "display_data"
    }
   ],
   "source": [
    "plt.pie(df['Class'].value_counts(), labels = df['Class'].value_counts().index, autopct = '%1.1f%%')"
   ]
  },
  {
   "cell_type": "markdown",
   "metadata": {
    "id": "2XMn6xZmN2v3"
   },
   "source": [
    "Посмотрим зависимости от признаков:\n",
    "\n",
    "---"
   ]
  },
  {
   "cell_type": "code",
   "execution_count": null,
   "metadata": {
    "colab": {
     "base_uri": "https://localhost:8080/",
     "height": 1000
    },
    "id": "F5R3Isz_NZ3x",
    "outputId": "083c012a-9baa-4095-92d1-1a8fb208b901"
   },
   "outputs": [
    {
     "data": {
      "text/plain": [
       "<seaborn.axisgrid.PairGrid at 0x28148784970>"
      ]
     },
     "execution_count": 28,
     "metadata": {},
     "output_type": "execute_result"
    }
   ],
   "source": [
    "sns.pairplot(df, hue = 'Class')"
   ]
  },
  {
   "cell_type": "markdown",
   "metadata": {
    "id": "Er6DRisNUKyx"
   },
   "source": [
    "Визуализация числовых признаков:\n",
    "\n",
    "---"
   ]
  },
  {
   "cell_type": "code",
   "execution_count": null,
   "metadata": {
    "colab": {
     "base_uri": "https://localhost:8080/",
     "height": 1000
    },
    "id": "jJ7dIkkWqF4E",
    "outputId": "e80f5728-612d-4794-82ed-e7c4885c84ec"
   },
   "outputs": [],
   "source": [
    "df.hist(column = num_cols, figsize = (14, 14))"
   ]
  },
  {
   "cell_type": "markdown",
   "metadata": {
    "id": "UwoycQGy9Zyo"
   },
   "source": [
    "Фичи Popularity, danceability, loudness, valence, tempo, duration_in min/ms имеют форму нормального распределения. "
   ]
  },
  {
   "cell_type": "code",
   "execution_count": null,
   "metadata": {
    "colab": {
     "base_uri": "https://localhost:8080/",
     "height": 237
    },
    "id": "xQQT6BQ7x91y",
    "outputId": "60c803c7-0d2a-46f8-e5b6-2fc7fc6c6980"
   },
   "outputs": [],
   "source": [
    "fig = plt.figure(figsize = (15, 15))\n",
    "for i in range(len(cat_cols)):\n",
    "    train_counts = df[cat_cols[i]].value_counts()\n",
    "    plt.subplot(4, 4, i + 1)\n",
    "    plt.pie(train_counts, labels = train_counts.index, autopct='%1.1f%%')\n",
    "    plt.axis('equal')\n",
    "    plt.title(cat_cols[i], loc = \"right\")\n",
    "    plt.legend()"
   ]
  },
  {
   "cell_type": "markdown",
   "metadata": {
    "id": "GICyBoMr60hJ"
   },
   "source": [
    "90% значений time_signature равны 4, что может плохо сказаться на обучении, может понадобиться удаление колонки"
   ]
  },
  {
   "cell_type": "code",
   "execution_count": null,
   "metadata": {
    "colab": {
     "base_uri": "https://localhost:8080/",
     "height": 473
    },
    "id": "hew2XqW_SmXf",
    "outputId": "64a986c2-b6ba-4ea6-d5d4-1ea83f9c41d4"
   },
   "outputs": [],
   "source": [
    "sns.boxplot(df['instrumentalness'])"
   ]
  },
  {
   "cell_type": "code",
   "execution_count": null,
   "metadata": {
    "colab": {
     "base_uri": "https://localhost:8080/",
     "height": 394
    },
    "id": "K5o2jDX_CIU3",
    "outputId": "9b84de32-72cd-4e18-c6fc-883b36618a79"
   },
   "outputs": [],
   "source": [
    "df.quantile([0.001,0.005,.01,.05,.1,.5,.9,.95,.99,.995,0.999])"
   ]
  },
  {
   "cell_type": "markdown",
   "metadata": {
    "id": "h2rRwd4jDRH_"
   },
   "source": [
    "Очень сильных выбросов нет"
   ]
  },
  {
   "cell_type": "markdown",
   "metadata": {
    "id": "SKv9GgWrGTbe"
   },
   "source": [
    "Построим корреляционную матрицу:\n",
    "\n",
    "---"
   ]
  },
  {
   "cell_type": "code",
   "execution_count": null,
   "metadata": {
    "colab": {
     "base_uri": "https://localhost:8080/",
     "height": 932
    },
    "id": "y3o55yqHG_-n",
    "outputId": "32647459-9061-4ff8-e10e-48598b4f83e7"
   },
   "outputs": [],
   "source": [
    "fig, ax = plt.subplots(figsize = (15, 15))\n",
    "\n",
    "sns.heatmap(df.corr(), square = True, annot = True, vmin = -1, vmax = 1, cmap = 'coolwarm')"
   ]
  },
  {
   "cell_type": "markdown",
   "metadata": {
    "id": "IAXrz9qEZx1s"
   },
   "source": [
    "## **3. Обучающая и тестовая выборки**\n"
   ]
  },
  {
   "cell_type": "markdown",
   "metadata": {
    "id": "t7dOcji1077-"
   },
   "source": [
    "Разделим признаки и целевую переменную:\n",
    "\n",
    "---"
   ]
  },
  {
   "cell_type": "code",
   "execution_count": null,
   "metadata": {
    "id": "EuAo3W4l056-"
   },
   "outputs": [],
   "source": [
    "y = df['Class']"
   ]
  },
  {
   "cell_type": "markdown",
   "metadata": {
    "id": "LsAg9SJfpGim"
   },
   "source": [
    "Удалим часть признаков:\n",
    "\n",
    "---"
   ]
  },
  {
   "cell_type": "code",
   "execution_count": null,
   "metadata": {
    "colab": {
     "base_uri": "https://localhost:8080/"
    },
    "id": "Hs3CKxvhpGtl",
    "outputId": "16eae140-5bc1-4dfc-c9fe-fbdc98558972"
   },
   "outputs": [],
   "source": [
    "X = df.drop(columns = ['key', 'mode','time_signature', 'Class'])\n",
    "X.info()"
   ]
  },
  {
   "cell_type": "markdown",
   "metadata": {
    "id": "6OY5-u490RjW"
   },
   "source": [
    "Разделим датасет на обучающую и тестовую выборки:\n",
    "\n",
    "---"
   ]
  },
  {
   "cell_type": "code",
   "execution_count": null,
   "metadata": {
    "id": "Jutox9XxzZTe"
   },
   "outputs": [],
   "source": [
    "from sklearn.model_selection import train_test_split\n",
    "X_train, X_test, y_train, y_test = train_test_split(X, y, test_size = 0.25, random_state = 49)"
   ]
  },
  {
   "cell_type": "markdown",
   "metadata": {
    "id": "YAjvnYkWUrkV"
   },
   "source": [
    "Применим one-hot encoding к категориальным признакам:\n",
    "\n",
    "---"
   ]
  },
  {
   "cell_type": "code",
   "execution_count": null,
   "metadata": {
    "colab": {
     "base_uri": "https://localhost:8080/"
    },
    "id": "V-cUX9m0XYH1",
    "outputId": "c0190d5b-9b7c-477d-d672-a55cf782151f"
   },
   "outputs": [],
   "source": [
    "X_train.shape"
   ]
  },
  {
   "cell_type": "code",
   "execution_count": null,
   "metadata": {
    "colab": {
     "base_uri": "https://localhost:8080/"
    },
    "id": "Y9A8j86Gcq7c",
    "outputId": "eeca81aa-698a-4186-c4d8-93a293e851cf"
   },
   "outputs": [],
   "source": [
    "y_train.size"
   ]
  },
  {
   "cell_type": "code",
   "execution_count": null,
   "metadata": {
    "colab": {
     "base_uri": "https://localhost:8080/"
    },
    "id": "0UV_bkVqnDIZ",
    "outputId": "9b1aa505-9e2a-47af-da53-5fe4b81819fd"
   },
   "outputs": [],
   "source": [
    "y_train"
   ]
  },
  {
   "cell_type": "code",
   "execution_count": null,
   "metadata": {
    "colab": {
     "base_uri": "https://localhost:8080/"
    },
    "id": "arnvibHLoUXS",
    "outputId": "1e7e1807-c83a-418b-c550-7771e10ba523"
   },
   "outputs": [],
   "source": [
    "y_test"
   ]
  },
  {
   "cell_type": "markdown",
   "metadata": {
    "id": "V_-EXTALV1PG"
   },
   "source": [
    "Проведем масштабирование количественных признаков:\n",
    "\n",
    "---"
   ]
  },
  {
   "cell_type": "code",
   "execution_count": null,
   "metadata": {
    "id": "qBP42qnlY_Ut"
   },
   "outputs": [],
   "source": [
    "from sklearn.preprocessing import StandardScaler\n",
    "scaler = StandardScaler()\n",
    "scaler.fit(X_train)\n",
    "X_train = pd.DataFrame(scaler.transform(X_train), columns = X_train.columns, index = X_train.index)"
   ]
  },
  {
   "cell_type": "code",
   "execution_count": null,
   "metadata": {
    "colab": {
     "base_uri": "https://localhost:8080/",
     "height": 423
    },
    "id": "Z6Q_EwuHYQ3N",
    "outputId": "4b65bca3-534d-4d75-8215-ec64f5f782b5"
   },
   "outputs": [],
   "source": [
    "X_train"
   ]
  },
  {
   "cell_type": "markdown",
   "metadata": {
    "id": "MIBMmmLqVXkd"
   },
   "source": [
    "Проведем предобработку тестовой выборки:\n",
    "\n",
    "---"
   ]
  },
  {
   "cell_type": "code",
   "execution_count": null,
   "metadata": {
    "id": "_aor-ninj2l0"
   },
   "outputs": [],
   "source": [
    "#X_test = pd.get_dummies(X_test, columns = cat_cols)"
   ]
  },
  {
   "cell_type": "code",
   "execution_count": null,
   "metadata": {
    "id": "GZOr7RCrkBO7"
   },
   "outputs": [],
   "source": [
    "from sklearn.preprocessing import StandardScaler\n",
    "scaler = StandardScaler()\n",
    "scaler.fit(X_test)\n",
    "X_test = pd.DataFrame(scaler.transform(X_test), columns = X_test.columns, index = X_test.index)"
   ]
  },
  {
   "cell_type": "code",
   "execution_count": null,
   "metadata": {
    "colab": {
     "base_uri": "https://localhost:8080/",
     "height": 423
    },
    "id": "fIk8L2PnqrP0",
    "outputId": "2ed30a4b-0a73-4683-f3e7-d5cc38d6727c"
   },
   "outputs": [],
   "source": [
    "X_test"
   ]
  },
  {
   "cell_type": "code",
   "execution_count": null,
   "metadata": {
    "colab": {
     "base_uri": "https://localhost:8080/"
    },
    "id": "NwPOaqZFqQrh",
    "outputId": "3fc87f99-a4e0-420c-e0c6-96a3fc42c6f5"
   },
   "outputs": [],
   "source": [
    "y_test"
   ]
  },
  {
   "cell_type": "markdown",
   "metadata": {
    "id": "OBL7iq3SWJ9M"
   },
   "source": [
    "## **4. Обучение моделей**"
   ]
  },
  {
   "cell_type": "markdown",
   "metadata": {
    "id": "iaywNy82Ubj-"
   },
   "source": [
    "### Обучение 1. K Ближайших Соседей"
   ]
  },
  {
   "cell_type": "code",
   "execution_count": null,
   "metadata": {
    "id": "BiYcUeOkaCck"
   },
   "outputs": [],
   "source": [
    "from sklearn.neighbors import KNeighborsClassifier\n",
    "from sklearn import metrics"
   ]
  },
  {
   "cell_type": "markdown",
   "metadata": {
    "id": "5XtZbty4bI3V"
   },
   "source": [
    "Обучаем модель:\n",
    "\n",
    "---"
   ]
  },
  {
   "cell_type": "code",
   "execution_count": null,
   "metadata": {
    "colab": {
     "base_uri": "https://localhost:8080/"
    },
    "id": "SadxUft3a3nU",
    "outputId": "9aacff94-de85-4fcb-db34-1792516dfc55"
   },
   "outputs": [],
   "source": [
    "KNN_model = KNeighborsClassifier(n_neighbors=10)\n",
    "KNN_model.fit(X_train, y_train)"
   ]
  },
  {
   "cell_type": "markdown",
   "metadata": {
    "id": "U5bHtc0Cb4_z"
   },
   "source": [
    "Предсказываем:\n",
    "\n",
    "---"
   ]
  },
  {
   "cell_type": "code",
   "execution_count": null,
   "metadata": {
    "id": "8f-9-TCmb2-C"
   },
   "outputs": [],
   "source": [
    "y_train_predict = KNN_model.predict(X_train)\n",
    "y_test_predict  = KNN_model.predict(X_test)"
   ]
  },
  {
   "cell_type": "code",
   "execution_count": null,
   "metadata": {
    "colab": {
     "base_uri": "https://localhost:8080/"
    },
    "id": "fPBL9CLbcA_K",
    "outputId": "d06a45eb-40a0-4f24-b2a7-66232d068dd4"
   },
   "outputs": [],
   "source": [
    "print('Accuracy of KNN on test set: {:.2f}'.format(KNN_model.score(X_test, y_test)))\n",
    "print('Accuracy of KNN on train set: {:.2f}'.format(KNN_model.score(X_train, y_train)))"
   ]
  },
  {
   "cell_type": "code",
   "execution_count": null,
   "metadata": {
    "id": "2eM_mydndhhR"
   },
   "outputs": [],
   "source": [
    "from sklearn.metrics import classification_report"
   ]
  },
  {
   "cell_type": "code",
   "execution_count": null,
   "metadata": {
    "colab": {
     "base_uri": "https://localhost:8080/"
    },
    "id": "mghOjF2icEBK",
    "outputId": "03e3ed4d-4d68-497b-9880-86ad6c17b483"
   },
   "outputs": [],
   "source": [
    "print(classification_report(y_test, y_test_predict))"
   ]
  },
  {
   "cell_type": "code",
   "execution_count": null,
   "metadata": {
    "colab": {
     "base_uri": "https://localhost:8080/"
    },
    "id": "DKrn8gLgfOCB",
    "outputId": "1be85122-ba7e-4e28-e9e4-b1324c74ef46"
   },
   "outputs": [],
   "source": [
    "from sklearn.metrics import log_loss\n",
    "log_loss(y_test, KNN_model.predict_proba(X_test))"
   ]
  },
  {
   "cell_type": "markdown",
   "metadata": {
    "id": "hcp3CvtXd6Ix"
   },
   "source": [
    "Матрица ошибок:\n",
    "\n",
    "---"
   ]
  },
  {
   "cell_type": "code",
   "execution_count": null,
   "metadata": {
    "colab": {
     "base_uri": "https://localhost:8080/"
    },
    "id": "zHpcIPDDd6gJ",
    "outputId": "86e85f44-2419-4b5d-d45b-ffc599317fd7"
   },
   "outputs": [],
   "source": [
    "from sklearn.metrics import mean_squared_error, r2_score\n",
    "\n",
    "MSE_train = mean_squared_error(y_train, y_train_predict)\n",
    "MSE_test  = mean_squared_error(y_test,  y_test_predict)\n",
    "R2_train = r2_score(y_train, y_train_predict)\n",
    "R2_test  = r2_score(y_test,  y_test_predict)\n",
    "\n",
    "MSE_train, MSE_test, R2_train, R2_test"
   ]
  },
  {
   "cell_type": "markdown",
   "metadata": {
    "id": "dUT9LKmIgN3L"
   },
   "source": [
    "### Обучение 2. Метод опорных векторов"
   ]
  },
  {
   "cell_type": "code",
   "execution_count": null,
   "metadata": {
    "id": "jTC_TyRwgJ4E"
   },
   "outputs": [],
   "source": [
    "from sklearn.svm import SVC"
   ]
  },
  {
   "cell_type": "markdown",
   "metadata": {
    "id": "-z7xTvQCcYAr"
   },
   "source": [
    "Обучаем модель:\n",
    "\n",
    "---"
   ]
  },
  {
   "cell_type": "code",
   "execution_count": null,
   "metadata": {
    "colab": {
     "base_uri": "https://localhost:8080/"
    },
    "id": "ACcTkwRAjsSU",
    "outputId": "17b397bb-cc7e-425c-c8db-965a646099fa"
   },
   "outputs": [],
   "source": [
    "SVC_model = SVC()\n",
    "SVC_model.fit(X_train, y_train)"
   ]
  },
  {
   "cell_type": "markdown",
   "metadata": {
    "id": "EOUgbwXtcgca"
   },
   "source": [
    "Предсказываем:\n",
    "\n",
    "---"
   ]
  },
  {
   "cell_type": "code",
   "execution_count": null,
   "metadata": {
    "id": "3bqr-Ji-ceCa"
   },
   "outputs": [],
   "source": [
    "y_train_pr = SVC_model.predict(X_train)\n",
    "y_test_pr  = SVC_model.predict(X_test)"
   ]
  },
  {
   "cell_type": "code",
   "execution_count": null,
   "metadata": {
    "colab": {
     "base_uri": "https://localhost:8080/"
    },
    "id": "dwEacAR2a7kK",
    "outputId": "da4de439-2544-4716-cb48-6176939da408"
   },
   "outputs": [],
   "source": [
    "print('Accuracy of SVC on test set: {:.2f}'.format(SVC_model.score(X_test, y_test)))\n",
    "print('Accuracy of SVC on train set: {:.2f}'.format(SVC_model.score(X_train, y_train)))"
   ]
  },
  {
   "cell_type": "code",
   "execution_count": null,
   "metadata": {
    "colab": {
     "base_uri": "https://localhost:8080/"
    },
    "id": "Bw2KXfJibVHK",
    "outputId": "dc9836c5-c2a3-4385-8d9e-db3a2f14b83e"
   },
   "outputs": [],
   "source": [
    "print(classification_report(y_test, y_test_pr))"
   ]
  },
  {
   "cell_type": "markdown",
   "metadata": {
    "id": "pGa8H_fDdxrZ"
   },
   "source": [
    "Матрица ошибок:\n",
    "\n",
    "---"
   ]
  },
  {
   "cell_type": "code",
   "execution_count": null,
   "metadata": {
    "colab": {
     "base_uri": "https://localhost:8080/"
    },
    "id": "dt2ZRinAdyQR",
    "outputId": "df36c6cb-dcd8-48d0-9beb-8286e2645d43"
   },
   "outputs": [],
   "source": [
    "from sklearn.metrics import mean_squared_error, r2_score\n",
    "\n",
    "MSE_train = mean_squared_error(y_train, y_train_pr)\n",
    "MSE_test  = mean_squared_error(y_test,  y_test_pr)\n",
    "R2_train = r2_score(y_train, y_train_pr)\n",
    "R2_test  = r2_score(y_test,  y_test_pr)\n",
    "\n",
    "MSE_train, MSE_test, R2_train, R2_test"
   ]
  },
  {
   "cell_type": "markdown",
   "metadata": {
    "id": "Ga0h-8hKaEB6"
   },
   "source": [
    "### Обучение 3. Логистическая регрессия"
   ]
  },
  {
   "cell_type": "code",
   "execution_count": null,
   "metadata": {
    "id": "b6ZVaLRfaQTy"
   },
   "outputs": [],
   "source": [
    "from sklearn.linear_model import LogisticRegression"
   ]
  },
  {
   "cell_type": "markdown",
   "metadata": {
    "id": "hSX-1c76dCOp"
   },
   "source": [
    "Обучаем модель:\n",
    "\n",
    "---"
   ]
  },
  {
   "cell_type": "code",
   "execution_count": null,
   "metadata": {
    "colab": {
     "base_uri": "https://localhost:8080/"
    },
    "id": "mpwgo8tTdDOR",
    "outputId": "ebf47e83-2db1-4d44-b543-109f6829e972"
   },
   "outputs": [],
   "source": [
    "logreg = LogisticRegression(max_iter = 1000)\n",
    "logreg.fit(X_train, y_train)"
   ]
  },
  {
   "cell_type": "markdown",
   "metadata": {
    "id": "Z16FwZzMdIZZ"
   },
   "source": [
    "Предсказываем:\n",
    "\n",
    "---"
   ]
  },
  {
   "cell_type": "code",
   "execution_count": null,
   "metadata": {
    "colab": {
     "base_uri": "https://localhost:8080/"
    },
    "id": "IlcUOzrJaWPD",
    "outputId": "19cbabaf-055b-4173-89a7-1fdf52f46789"
   },
   "outputs": [],
   "source": [
    "y_test_pred = logreg.predict(X_test)\n",
    "y_train_pred = logreg.predict(X_train)\n",
    "print('Accuracy of logistic regression classifier on test set: {:.2f}'.format(logreg.score(X_test, y_test)))\n",
    "print('Accuracy of logistic regression classifier on train set: {:.2f}'.format(logreg.score(X_train, y_train)))"
   ]
  },
  {
   "cell_type": "code",
   "execution_count": null,
   "metadata": {
    "colab": {
     "base_uri": "https://localhost:8080/"
    },
    "id": "tWWh8MN3alna",
    "outputId": "a5b69464-b8c0-4446-9a18-4fbfa5c20a96"
   },
   "outputs": [],
   "source": [
    "print(classification_report(y_test, y_test_pred))"
   ]
  },
  {
   "cell_type": "code",
   "execution_count": null,
   "metadata": {
    "colab": {
     "base_uri": "https://localhost:8080/"
    },
    "id": "yYjYZqk7ki3-",
    "outputId": "3e64b62d-65c8-427d-ae3f-e3a3ecf39cbc"
   },
   "outputs": [],
   "source": [
    "log_loss(y_test, logreg.predict_proba(X_test))"
   ]
  },
  {
   "cell_type": "markdown",
   "metadata": {
    "id": "8l2mTGa5dn84"
   },
   "source": [
    "Матрица ошибок:\n",
    "\n",
    "---\n"
   ]
  },
  {
   "cell_type": "code",
   "execution_count": null,
   "metadata": {
    "colab": {
     "base_uri": "https://localhost:8080/"
    },
    "id": "Jf8fBklZasFa",
    "outputId": "f1a4bbe5-b3b1-4d53-d7a8-8880c94d6482"
   },
   "outputs": [],
   "source": [
    "from sklearn.metrics import mean_squared_error, r2_score\n",
    "\n",
    "MSE_train = mean_squared_error(y_train, y_train_pred)\n",
    "MSE_test  = mean_squared_error(y_test,  y_test_pred)\n",
    "R2_train = r2_score(y_train, y_train_pred)\n",
    "R2_test  = r2_score(y_test,  y_test_pred)\n",
    "\n",
    "MSE_train, MSE_test, R2_train, R2_test"
   ]
  },
  {
   "cell_type": "markdown",
   "metadata": {
    "id": "LIy5kMZ3ibUX"
   },
   "source": [
    "### Обучение 4. Дерево решений"
   ]
  },
  {
   "cell_type": "code",
   "execution_count": null,
   "metadata": {
    "id": "9x559ngNia_v"
   },
   "outputs": [],
   "source": [
    "from sklearn.tree import DecisionTreeClassifier"
   ]
  },
  {
   "cell_type": "markdown",
   "metadata": {
    "id": "zBXLwGL7iw2v"
   },
   "source": [
    "Обучаем модель:\n",
    "\n",
    "---"
   ]
  },
  {
   "cell_type": "code",
   "execution_count": null,
   "metadata": {
    "colab": {
     "base_uri": "https://localhost:8080/"
    },
    "id": "Edg4oTqQiweH",
    "outputId": "41be100d-c8af-4bfd-ad05-3b5ff1f5c391"
   },
   "outputs": [],
   "source": [
    "model = DecisionTreeClassifier(max_depth = 5)\n",
    "model.fit(X_train, y_train)"
   ]
  },
  {
   "cell_type": "markdown",
   "metadata": {
    "id": "ObOBaZ3BjdEm"
   },
   "source": [
    "Предсказываем:\n",
    "\n",
    "---"
   ]
  },
  {
   "cell_type": "code",
   "execution_count": null,
   "metadata": {
    "colab": {
     "base_uri": "https://localhost:8080/"
    },
    "id": "bXoRGg_OjeDg",
    "outputId": "974c81a5-c516-4bc3-e38c-3d99557a0d89"
   },
   "outputs": [],
   "source": [
    "y_test_pred = model.predict(X_test)\n",
    "y_train_pred = model.predict(X_train)\n",
    "print('Accuracy of decision tree classifier on test set: {:.2f}'.format(model.score(X_test, y_test)))\n",
    "print('Accuracy of decision tree classifier on train set: {:.2f}'.format(model.score(X_train, y_train)))"
   ]
  },
  {
   "cell_type": "code",
   "execution_count": null,
   "metadata": {
    "colab": {
     "base_uri": "https://localhost:8080/"
    },
    "id": "OMY3iK_LjtmA",
    "outputId": "390c407a-405a-47bd-bf93-c7a9adf5da03"
   },
   "outputs": [],
   "source": [
    "print(classification_report(y_test, y_test_pred))"
   ]
  },
  {
   "cell_type": "code",
   "execution_count": null,
   "metadata": {
    "colab": {
     "base_uri": "https://localhost:8080/"
    },
    "id": "4Y_Eo8wOknQO",
    "outputId": "8b9984b6-fd4e-49a9-bc2e-7d043284bfcb"
   },
   "outputs": [],
   "source": [
    "log_loss(y_test, model.predict_proba(X_test))"
   ]
  },
  {
   "cell_type": "markdown",
   "metadata": {
    "id": "GUtysJ9CkTN-"
   },
   "source": [
    "Матрица ошибок:\n",
    "\n",
    "---"
   ]
  },
  {
   "cell_type": "code",
   "execution_count": null,
   "metadata": {
    "colab": {
     "base_uri": "https://localhost:8080/"
    },
    "id": "IF-7ZFxpjtin",
    "outputId": "b84ba531-d88c-4507-b899-3d40c9bf4109"
   },
   "outputs": [],
   "source": [
    "from sklearn.metrics import mean_squared_error, r2_score\n",
    "\n",
    "MSE_train = mean_squared_error(y_train, y_train_pred)\n",
    "MSE_test  = mean_squared_error(y_test,  y_test_pred)\n",
    "R2_train = r2_score(y_train, y_train_pred)\n",
    "R2_test  = r2_score(y_test,  y_test_pred)\n",
    "\n",
    "MSE_train, MSE_test, R2_train, R2_test"
   ]
  },
  {
   "cell_type": "markdown",
   "metadata": {
    "id": "Cd4s60Lku4vi"
   },
   "source": [
    "### Обучение 5. Линейная регрессия"
   ]
  },
  {
   "cell_type": "code",
   "execution_count": null,
   "metadata": {
    "id": "JiNFXIGtvGs7"
   },
   "outputs": [],
   "source": [
    "from sklearn.linear_model import LinearRegression"
   ]
  },
  {
   "cell_type": "markdown",
   "metadata": {
    "id": "fADzy0bGvHGh"
   },
   "source": [
    "Обучаем модель:\n",
    "\n",
    "---\n"
   ]
  },
  {
   "cell_type": "code",
   "execution_count": null,
   "metadata": {
    "colab": {
     "base_uri": "https://localhost:8080/"
    },
    "id": "qoosJNAuvTUS",
    "outputId": "38ad6c06-3587-4d20-9423-33973ba44499"
   },
   "outputs": [],
   "source": [
    "linreg = LinearRegression()\n",
    "linreg.fit(X_train, y_train)"
   ]
  },
  {
   "cell_type": "markdown",
   "metadata": {
    "id": "OfRKb6u4vb77"
   },
   "source": [
    "Предсказываем:\n",
    "\n",
    "---"
   ]
  },
  {
   "cell_type": "code",
   "execution_count": null,
   "metadata": {
    "colab": {
     "base_uri": "https://localhost:8080/"
    },
    "id": "IjOkBe_PvaDR",
    "outputId": "e8583668-b4c3-4d8d-b119-0b4e83b39451"
   },
   "outputs": [],
   "source": [
    "y_test_pred = linreg.predict(X_test)\n",
    "y_train_pred = linreg.predict(X_train)\n",
    "print('Accuracy of linear regression classifier on test set: {:.2f}'.format(linreg.score(X_test, y_test)))\n",
    "print('Accuracy of linear regression classifier on train set: {:.2f}'.format(linreg.score(X_train, y_train)))"
   ]
  },
  {
   "cell_type": "markdown",
   "metadata": {
    "id": "UzxcFVKUvxwa"
   },
   "source": [
    "Матрица ошибок:\n",
    "\n",
    "---"
   ]
  },
  {
   "cell_type": "code",
   "execution_count": null,
   "metadata": {
    "colab": {
     "base_uri": "https://localhost:8080/"
    },
    "id": "K59htXk8v2CZ",
    "outputId": "e69d7ee3-4463-4c01-f3ff-a0718f62b9a7"
   },
   "outputs": [],
   "source": [
    "from sklearn.metrics import mean_squared_error, r2_score\n",
    "\n",
    "MSE_train = mean_squared_error(y_train, y_train_pred)\n",
    "MSE_test  = mean_squared_error(y_test,  y_test_pred)\n",
    "R2_train = r2_score(y_train, y_train_pred)\n",
    "R2_test  = r2_score(y_test,  y_test_pred)\n",
    "\n",
    "MSE_train, MSE_test, R2_train, R2_test"
   ]
  },
  {
   "cell_type": "markdown",
   "metadata": {
    "id": "adv8d0PZwJuJ"
   },
   "source": [
    "### Обучение 6. Случайный лес"
   ]
  },
  {
   "cell_type": "code",
   "execution_count": null,
   "metadata": {
    "id": "fOxmzi6nwKMR"
   },
   "outputs": [],
   "source": [
    "from sklearn.ensemble import RandomForestClassifier"
   ]
  },
  {
   "cell_type": "markdown",
   "metadata": {
    "id": "EBUzzThMwTuT"
   },
   "source": [
    "Обучаем модель:\n",
    "\n",
    "---"
   ]
  },
  {
   "cell_type": "code",
   "execution_count": null,
   "metadata": {
    "colab": {
     "base_uri": "https://localhost:8080/"
    },
    "id": "NS0nri4-wWXU",
    "outputId": "610328de-79b3-4510-8b28-6cf5d6da90fc"
   },
   "outputs": [],
   "source": [
    "rfc = RandomForestClassifier(max_depth = 9, random_state = 3)\n",
    "rfc.fit(X_train, y_train)"
   ]
  },
  {
   "cell_type": "markdown",
   "metadata": {
    "id": "2421Yt3ZwjE5"
   },
   "source": [
    "Предсказываем:\n",
    "\n",
    "---"
   ]
  },
  {
   "cell_type": "code",
   "execution_count": null,
   "metadata": {
    "colab": {
     "base_uri": "https://localhost:8080/"
    },
    "id": "1oVdVlAPwm1h",
    "outputId": "72557152-2b80-4072-a4a7-d77c4128f4cd"
   },
   "outputs": [],
   "source": [
    "y_test_pred = rfc.predict(X_test)\n",
    "y_train_pred = rfc.predict(X_train)\n",
    "print('Accuracy of random forest classifier on test set: {:.2f}'.format(rfc.score(X_test, y_test)))\n",
    "print('Accuracy of random forest classifier on train set: {:.2f}'.format(rfc.score(X_train, y_train)))"
   ]
  },
  {
   "cell_type": "code",
   "execution_count": null,
   "metadata": {
    "colab": {
     "base_uri": "https://localhost:8080/"
    },
    "id": "mYysl58dw0_R",
    "outputId": "66c05b4f-63a2-4680-d160-3c2e2e01a4a8"
   },
   "outputs": [],
   "source": [
    "print(classification_report(y_test, y_test_pred))"
   ]
  },
  {
   "cell_type": "code",
   "execution_count": null,
   "metadata": {
    "colab": {
     "base_uri": "https://localhost:8080/"
    },
    "id": "lY4INf3rw4Zh",
    "outputId": "394ec4a2-fa4b-4138-cd32-3eeedcb0e155"
   },
   "outputs": [],
   "source": [
    "log_loss(y_test, rfc.predict_proba(X_test))"
   ]
  },
  {
   "cell_type": "markdown",
   "metadata": {
    "id": "qznl-fOCw6pR"
   },
   "source": [
    "Матрица ошибок:\n",
    "\n",
    "---"
   ]
  },
  {
   "cell_type": "code",
   "execution_count": null,
   "metadata": {
    "colab": {
     "base_uri": "https://localhost:8080/"
    },
    "id": "l3YcrycMw67p",
    "outputId": "33e635e3-69c7-4ffd-dd9b-0a41bf93c7e5"
   },
   "outputs": [],
   "source": [
    "from sklearn.metrics import mean_squared_error, r2_score\n",
    "\n",
    "MSE_train = mean_squared_error(y_train, y_train_pred)\n",
    "MSE_test  = mean_squared_error(y_test,  y_test_pred)\n",
    "R2_train = r2_score(y_train, y_train_pred)\n",
    "R2_test  = r2_score(y_test,  y_test_pred)\n",
    "\n",
    "MSE_train, MSE_test, R2_train, R2_test"
   ]
  },
  {
   "cell_type": "markdown",
   "metadata": {
    "id": "Ye5YjE1pleiW"
   },
   "source": [
    "### Обучение 7. Ансамбль моделей\n",
    "\n"
   ]
  },
  {
   "cell_type": "code",
   "execution_count": null,
   "metadata": {
    "id": "plbdK3EhltPW"
   },
   "outputs": [],
   "source": [
    "from sklearn.ensemble import VotingClassifier\n",
    "from sklearn.ensemble import GradientBoostingClassifier\n",
    "from sklearn.ensemble import RandomForestClassifier\n",
    "from sklearn.ensemble import ExtraTreesClassifier\n",
    "from sklearn.ensemble import HistGradientBoostingClassifier"
   ]
  },
  {
   "cell_type": "markdown",
   "metadata": {
    "id": "V3VOCIGelqem"
   },
   "source": [
    "Обучаем модель:\n",
    "\n",
    "---"
   ]
  },
  {
   "cell_type": "code",
   "execution_count": null,
   "metadata": {
    "id": "Ectm_uLdjtfm"
   },
   "outputs": [],
   "source": [
    "mod1 = GradientBoostingClassifier(warm_start = True, n_estimators = 333, learning_rate = 0.9, max_depth = 5, random_state = 7)\n",
    "mod2 = RandomForestClassifier(max_depth = 8, random_state = 3)\n",
    "mod3 = ExtraTreesClassifier(n_estimators = 10, max_depth = 5, random_state = 3)\n",
    "mod4 = HistGradientBoostingClassifier(max_iter = 10, max_depth = 5)"
   ]
  },
  {
   "cell_type": "code",
   "execution_count": null,
   "metadata": {
    "id": "2DQ4Aa-fjtbO"
   },
   "outputs": [],
   "source": [
    "ereg = VotingClassifier(estimators=[('gb', mod1), ('rf', mod2), ('et', mod3), ('hgb', mod4)])"
   ]
  },
  {
   "cell_type": "code",
   "execution_count": null,
   "metadata": {
    "colab": {
     "base_uri": "https://localhost:8080/"
    },
    "id": "Lg6FWVrWjtVe",
    "outputId": "7f2af284-7570-4e29-bb05-7f3997d21645"
   },
   "outputs": [],
   "source": [
    "ereg.fit(X_train, y_train)"
   ]
  },
  {
   "cell_type": "markdown",
   "metadata": {
    "id": "pdNkIw9tnCu9"
   },
   "source": [
    "Предсказываем:\n",
    "\n",
    "---"
   ]
  },
  {
   "cell_type": "code",
   "execution_count": null,
   "metadata": {
    "colab": {
     "base_uri": "https://localhost:8080/"
    },
    "id": "0rhhQc4wjtPY",
    "outputId": "82d7282a-35fa-45d2-8486-85592416d3bb"
   },
   "outputs": [],
   "source": [
    "y_test_pred = ereg.predict(X_test)\n",
    "y_train_pred = ereg.predict(X_train)\n",
    "print('Accuracy of voting classifier on test set: {:.2f}'.format(ereg.score(X_test, y_test)))\n",
    "print('Accuracy of voting classifier on train set: {:.2f}'.format(ereg.score(X_train, y_train)))"
   ]
  },
  {
   "cell_type": "code",
   "execution_count": null,
   "metadata": {
    "colab": {
     "base_uri": "https://localhost:8080/"
    },
    "id": "_Se3Er5LjtGw",
    "outputId": "6bbb2370-6efe-407f-abc4-6322e2d382a8"
   },
   "outputs": [],
   "source": [
    "print(classification_report(y_test, y_test_pred))"
   ]
  },
  {
   "cell_type": "markdown",
   "metadata": {
    "id": "24Cqa649oNYV"
   },
   "source": [
    "Матрица ошибок:\n",
    "\n",
    "---"
   ]
  },
  {
   "cell_type": "code",
   "execution_count": null,
   "metadata": {
    "colab": {
     "base_uri": "https://localhost:8080/"
    },
    "id": "XeI0xgWCoMLe",
    "outputId": "0750500b-05ae-4fa2-8d09-263e5a364183"
   },
   "outputs": [],
   "source": [
    "from sklearn.metrics import mean_squared_error, r2_score\n",
    "\n",
    "MSE_train = mean_squared_error(y_train, y_train_pred)\n",
    "MSE_test  = mean_squared_error(y_test,  y_test_pred)\n",
    "R2_train = r2_score(y_train, y_train_pred)\n",
    "R2_test  = r2_score(y_test,  y_test_pred)\n",
    "\n",
    "MSE_train, MSE_test, R2_train, R2_test"
   ]
  },
  {
   "cell_type": "markdown",
   "metadata": {
    "id": "3W6e_pUTooL8"
   },
   "source": [
    "## **5. Итог**"
   ]
  },
  {
   "cell_type": "markdown",
   "metadata": {
    "id": "jZF5ju0h1yQo"
   },
   "source": [
    "Сравнение моделей:\n",
    "\n",
    "|  Поз. |  Модель | MSE_test |\n",
    "| :-: | :-: | :-: |\n",
    "| 1. | K Ближайших Соседей | 13.68 |\n",
    "| 2. | Метод опорных векторов | 12.96 |\n",
    "| 3. | Логистическая регрессия | 13.62 |\n",
    "| 4. | Дерево решений | 13.99 |\n",
    "| 5. | **Линейная регрессия** | **9.34** |\n",
    "| 6. | Случайный лес | 13.37 |\n",
    "| 7. | Ансамбль моделей | 15.21 |"
   ]
  }
 ],
 "metadata": {
  "colab": {
   "provenance": [],
   "toc_visible": true
  },
  "gpuClass": "standard",
  "kernelspec": {
   "display_name": "Python 3 (ipykernel)",
   "language": "python",
   "name": "python3"
  },
  "language_info": {
   "codemirror_mode": {
    "name": "ipython",
    "version": 3
   },
   "file_extension": ".py",
   "mimetype": "text/x-python",
   "name": "python",
   "nbconvert_exporter": "python",
   "pygments_lexer": "ipython3",
   "version": "3.9.13"
  }
 },
 "nbformat": 4,
 "nbformat_minor": 1
}
